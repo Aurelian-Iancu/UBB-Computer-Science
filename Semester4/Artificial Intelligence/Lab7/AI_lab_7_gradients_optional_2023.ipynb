{
 "cells": [
  {
   "cell_type": "markdown",
   "id": "980cdd54-5e95-4553-84bd-e6b2b7c96d61",
   "metadata": {},
   "source": [
    "## Gradients in torch recap"
   ]
  },
  {
   "cell_type": "code",
   "execution_count": 1,
   "id": "2fe9daeb-8ecf-4f4c-9e2c-0ed6b9170db7",
   "metadata": {},
   "outputs": [],
   "source": [
    "import math\n",
    "import numpy as np\n",
    "import matplotlib.pyplot as plt\n",
    "%matplotlib inline"
   ]
  },
  {
   "cell_type": "markdown",
   "id": "93769006-ec07-4c47-b2b6-998401f4b19b",
   "metadata": {},
   "source": [
    "## Simple derivative:\n",
    "### Let's define a random function"
   ]
  },
  {
   "cell_type": "code",
   "execution_count": 2,
   "id": "ee764a0a-f4a1-4fe6-8ae0-c3de373a609f",
   "metadata": {},
   "outputs": [],
   "source": [
    "def f(x):\n",
    "  return 3*x**2 - 2*x + 1"
   ]
  },
  {
   "cell_type": "code",
   "execution_count": 3,
   "id": "6f5031f7-d357-42ad-ac49-bfae78f3ca94",
   "metadata": {},
   "outputs": [
    {
     "data": {
      "text/plain": [
       "22.0"
      ]
     },
     "execution_count": 3,
     "metadata": {},
     "output_type": "execute_result"
    }
   ],
   "source": [
    "f(3.0)"
   ]
  },
  {
   "cell_type": "code",
   "execution_count": 4,
   "id": "cedd7f8c-ec5d-4c6e-b3a0-008a6b3605ab",
   "metadata": {},
   "outputs": [
    {
     "data": {
      "text/plain": [
       "[<matplotlib.lines.Line2D at 0x7fe43830fe20>]"
      ]
     },
     "execution_count": 4,
     "metadata": {},
     "output_type": "execute_result"
    },
    {
     "data": {
      "image/png": "[encoded data removed]",
      "text/plain": [
       "<Figure size 640x480 with 1 Axes>"
      ]
     },
     "metadata": {},
     "output_type": "display_data"
    }
   ],
   "source": [
    "xs = np.arange(-5, 5, 0.25)\n",
    "ys = f(xs)\n",
    "plt.plot(xs, ys)"
   ]
  },
  {
   "cell_type": "markdown",
   "id": "79a6ea90-f10e-4db0-88ac-3cf9677dbf96",
   "metadata": {},
   "source": [
    "##### What is the derivative of this function ?\n",
    "##### Recall high scholl calculus or https://en.wikipedia.org/wiki/Derivative\n",
    "\n",
    "Derivatives represent the rate of change or slope of a function at a particular point. They are used extensively in machine learning, deep learning, and optimization problems to optimize the parameters of a model. In simple terms, the derivative of a function tells us how much the output of the function changes with respect to its input.\n",
    "\n",
    "The derivative of a function f(x) at a point x is defined as the limit of the difference quotient as h approaches zero:\n",
    "\n",
    "$$f'(x) = \\lim_{h\\to0} \\frac{f(x+h)-f(x)}{h}$$\n",
    "\n",
    "We can approximate the derivative of a function at a point x by choosing a small value of h and calculating the difference quotient. This approximation becomes more accurate as we decrease the value of h. In PyTorch, we can use the torch.autograd package to calculate the derivatives of a function automatically."
   ]
  },
  {
   "cell_type": "code",
   "execution_count": 5,
   "id": "eb28e7ec-f4f6-4156-bf3d-8486a7322721",
   "metadata": {},
   "outputs": [
    {
     "name": "stdout",
     "output_type": "stream",
     "text": [
      "Slope or derivative 16.00300000000132\n"
     ]
    }
   ],
   "source": [
    "h=0.001\n",
    "x=3.0\n",
    "deriv = (f(x+h) - f(x))/h # Numerical aproximation of the slope\n",
    "print(\"Slope or derivative\",deriv)"
   ]
  },
  {
   "cell_type": "markdown",
   "id": "b21bc3e9-d473-429b-bfe9-d182f9bdfba7",
   "metadata": {},
   "source": [
    "##### What does derivative of 0 means ?\n",
    "##### A: Basically the slope is 0"
   ]
  },
  {
   "cell_type": "markdown",
   "id": "50a4e75d-a584-4cb8-8b8a-5dff1e9c466a",
   "metadata": {},
   "source": [
    "### Multi variable derivatives (We don't have just x but rather x,y,z variables)"
   ]
  },
  {
   "cell_type": "code",
   "execution_count": 6,
   "id": "eba0e0ac-3591-419e-8df8-0cdcdfb0b982",
   "metadata": {},
   "outputs": [
    {
     "name": "stdout",
     "output_type": "stream",
     "text": [
      "4.0\n"
     ]
    }
   ],
   "source": [
    "# les get more complex\n",
    "a = 2.0\n",
    "b = -3.0\n",
    "c = 10.0\n",
    "d = a*b + c\n",
    "print(d)"
   ]
  },
  {
   "cell_type": "code",
   "execution_count": 7,
   "id": "d9cea278-7704-4ec5-82f2-242c97cb365a",
   "metadata": {},
   "outputs": [
    {
     "name": "stdout",
     "output_type": "stream",
     "text": [
      "d1 4.0\n",
      "d2 4.0001\n",
      "slope 0.9999999999976694\n"
     ]
    }
   ],
   "source": [
    "h = 0.0001\n",
    "\n",
    "# inputs\n",
    "a = 2.0\n",
    "b = -3.0\n",
    "c = 10.0\n",
    "\n",
    "d1 = a*b + c\n",
    "c += h\n",
    "d2 = a*b + c\n",
    "\n",
    "print('d1', d1)\n",
    "print('d2', d2)\n",
    "print('slope', (d2 - d1)/h)"
   ]
  },
  {
   "cell_type": "code",
   "execution_count": 8,
   "id": "5457e2cd-7559-4daf-85da-feef4ede210e",
   "metadata": {},
   "outputs": [],
   "source": [
    "#Let's look at a negative slope"
   ]
  },
  {
   "cell_type": "code",
   "execution_count": 9,
   "id": "22b8e4fa-bbed-440c-bcbc-ed0acb4adcc1",
   "metadata": {},
   "outputs": [
    {
     "name": "stdout",
     "output_type": "stream",
     "text": [
      "d1 4.0\n",
      "d2 3.999699999999999\n",
      "slope -3.000000000010772\n"
     ]
    }
   ],
   "source": [
    "h = 0.0001\n",
    "\n",
    "# inputs\n",
    "a = 2.0\n",
    "b = -3.0\n",
    "c = 10.0\n",
    "\n",
    "d1 = a*b + c\n",
    "a += h # Where we add a bit a.k.a derivate\n",
    "d2 = a*b + c\n",
    "\n",
    "print('d1', d1)\n",
    "print('d2', d2)\n",
    "print('slope', (d2 - d1)/h)"
   ]
  },
  {
   "cell_type": "code",
   "execution_count": 10,
   "id": "7827781f-8aa3-4fde-8b5f-9c8bb62bb485",
   "metadata": {},
   "outputs": [],
   "source": [
    "# What did we change ? \n",
    "# A : The variable in respect to which we compute the derivative"
   ]
  },
  {
   "cell_type": "markdown",
   "id": "e59fb1ab-db93-4ce3-9002-2c487bf3cb05",
   "metadata": {
    "tags": []
   },
   "source": [
    "### Here is how pytorch computes the slopes/aka \"gradients\""
   ]
  },
  {
   "cell_type": "code",
   "execution_count": 11,
   "id": "d320c03c-5d75-48b2-8983-7a85d0d81335",
   "metadata": {},
   "outputs": [
    {
     "name": "stdout",
     "output_type": "stream",
     "text": [
      "tensor([9.], grad_fn=<AddBackward0>)\n",
      "tensor([6.])\n"
     ]
    }
   ],
   "source": [
    "import torch\n",
    "\n",
    "# Define a function\n",
    "def f(x):\n",
    "    return x**2 + 2*x + 1\n",
    "\n",
    "# Define an input tensor\n",
    "x = torch.tensor([2.0], requires_grad=True)\n",
    "\n",
    "# Evaluate the function\n",
    "y = f(x)\n",
    "\n",
    "# Calculate the derivative of the function with respect to x\n",
    "y.backward()\n",
    "\n",
    "print(y)\n",
    "\n",
    "# Print the derivative\n",
    "print(x.grad)"
   ]
  },
  {
   "cell_type": "code",
   "execution_count": 12,
   "id": "e1c30782-5d72-4857-aff2-699e5d71dea8",
   "metadata": {},
   "outputs": [],
   "source": [
    "### Let's dive deeeper how the autograd function works"
   ]
  },
  {
   "cell_type": "code",
   "execution_count": 13,
   "id": "776f94a5-94fb-49d4-8035-1f739b1aac8a",
   "metadata": {},
   "outputs": [],
   "source": [
    "\n",
    "class Value:\n",
    "  \n",
    "  def __init__(self, data, _children=(), _op='', label=''):\n",
    "    self.data = data\n",
    "\n",
    "  def __repr__(self):\n",
    "    return f\"Value(data={self.data})\""
   ]
  },
  {
   "cell_type": "code",
   "execution_count": 14,
   "id": "70348de0-d678-4d0c-83b1-07a2d9d12164",
   "metadata": {},
   "outputs": [],
   "source": [
    "a = Value(2.0)\n",
    "b = Value(-3.0)"
   ]
  },
  {
   "cell_type": "code",
   "execution_count": 15,
   "id": "eea7a276-141f-4580-aebd-8ed9455d32d7",
   "metadata": {},
   "outputs": [
    {
     "data": {
      "text/plain": [
       "Value(data=2.0)"
      ]
     },
     "execution_count": 15,
     "metadata": {},
     "output_type": "execute_result"
    }
   ],
   "source": [
    "a"
   ]
  },
  {
   "cell_type": "code",
   "execution_count": 16,
   "id": "f36964f4-d271-47c6-b0c7-2da12b15628e",
   "metadata": {},
   "outputs": [
    {
     "data": {
      "text/plain": [
       "Value(data=-3.0)"
      ]
     },
     "execution_count": 16,
     "metadata": {},
     "output_type": "execute_result"
    }
   ],
   "source": [
    "b"
   ]
  },
  {
   "cell_type": "code",
   "execution_count": 17,
   "id": "d106590b-2042-4358-b742-35a03d0ca633",
   "metadata": {},
   "outputs": [],
   "source": [
    "# We want to make make an adition of values "
   ]
  },
  {
   "cell_type": "code",
   "execution_count": 18,
   "id": "fae72878-3106-4ab0-a608-5a68587db805",
   "metadata": {},
   "outputs": [
    {
     "ename": "TypeError",
     "evalue": "unsupported operand type(s) for +: 'Value' and 'Value'",
     "output_type": "error",
     "traceback": [
      "\u001b[0;31m---------------------------------------------------------------------------\u001b[0m",
      "\u001b[0;31mTypeError\u001b[0m                                 Traceback (most recent call last)",
      "Cell \u001b[0;32mIn[18], line 1\u001b[0m\n\u001b[0;32m----> 1\u001b[0m \u001b[43ma\u001b[49m\u001b[38;5;241;43m+\u001b[39;49m\u001b[43mb\u001b[49m\n",
      "\u001b[0;31mTypeError\u001b[0m: unsupported operand type(s) for +: 'Value' and 'Value'"
     ]
    }
   ],
   "source": [
    "a+b"
   ]
  },
  {
   "cell_type": "code",
   "execution_count": null,
   "id": "9c90aeb8-b638-4c2e-b342-2c568d0afa26",
   "metadata": {},
   "outputs": [],
   "source": [
    "# As such we must modifiy the class"
   ]
  },
  {
   "cell_type": "code",
   "execution_count": 63,
   "id": "f43cea1e-d3a5-4c38-9a98-8de81b36dad6",
   "metadata": {},
   "outputs": [],
   "source": [
    "class Value:\n",
    "  \n",
    "    def __init__(self, data, _children=(), _op='', label=''):\n",
    "        self.data = data\n",
    "\n",
    "    def __repr__(self):\n",
    "        return f\"Value(data={self.data})\"\n",
    "\n",
    "    def __add__(self, other):\n",
    "        out = Value(self.data + other.data, (self, other), '+')\n",
    "        return out\n",
    "    \n",
    "    def __mul__(self, other):\n",
    "        out = Value(self.data * other.data, (self, other), '*')\n",
    "        return out\n"
   ]
  },
  {
   "cell_type": "code",
   "execution_count": 64,
   "id": "0d26c887-fd80-44bf-8ed1-097c65f40eb9",
   "metadata": {},
   "outputs": [
    {
     "data": {
      "text/plain": [
       "Value(data=-1.0)"
      ]
     },
     "execution_count": 64,
     "metadata": {},
     "output_type": "execute_result"
    }
   ],
   "source": [
    "a = Value(2.0)\n",
    "b = Value(-3.0)\n",
    "c= Value(10.0)\n",
    "a+b\n"
   ]
  },
  {
   "cell_type": "code",
   "execution_count": 65,
   "id": "c8a42ac0-582c-476c-8b21-36c06d5f8e86",
   "metadata": {},
   "outputs": [],
   "source": [
    "d= a*b + c"
   ]
  },
  {
   "cell_type": "code",
   "execution_count": 22,
   "id": "3ac634c9-9dc3-46a6-a54c-ad49784316a9",
   "metadata": {},
   "outputs": [],
   "source": [
    "# Code to vizualize the connections between operations"
   ]
  },
  {
   "cell_type": "code",
   "execution_count": 73,
   "id": "e91c6e4b-49b4-47b8-aa81-fa7128d6f189",
   "metadata": {},
   "outputs": [],
   "source": [
    "class Value:\n",
    "  \n",
    "    def __init__(self, data, _children=(), _op='', label=''):\n",
    "        self.data = data\n",
    "        self._prev = set(_children)  # We added this to remember the previous operation\n",
    "        self._op = _op # We added this so the drawing works\n",
    "        self.label = label\n",
    "        self.grad = 0.0\n",
    " \n",
    "    def __repr__(self):\n",
    "        return f\"Value(data={self.data})\"\n",
    "\n",
    "    def __add__(self, other):\n",
    "        out = Value(self.data + other.data, (self, other), '+')\n",
    "        return out\n",
    "    \n",
    "    def __mul__(self, other):\n",
    "        out = Value(self.data * other.data, (self, other), '*')\n",
    "        return out"
   ]
  },
  {
   "cell_type": "code",
   "execution_count": 74,
   "id": "22c38005-f9db-4b18-a9d5-fdf9034858e3",
   "metadata": {},
   "outputs": [],
   "source": [
    "a = Value(2.0)\n",
    "b = Value(-3.0)\n",
    "c = Value(10.0)"
   ]
  },
  {
   "cell_type": "code",
   "execution_count": 75,
   "id": "b1c9b817-d464-4f48-8d77-87111f4e5bb9",
   "metadata": {},
   "outputs": [],
   "source": [
    "d = a * b + c"
   ]
  },
  {
   "cell_type": "code",
   "execution_count": 76,
   "id": "b2ff28de-a9a2-4139-b100-e57d98f2d36c",
   "metadata": {},
   "outputs": [
    {
     "data": {
      "text/plain": [
       "Value(data=2.0)"
      ]
     },
     "execution_count": 76,
     "metadata": {},
     "output_type": "execute_result"
    }
   ],
   "source": [
    "a"
   ]
  },
  {
   "cell_type": "code",
   "execution_count": 77,
   "id": "d4172d87-6070-469f-93c0-f4396d00f9bb",
   "metadata": {},
   "outputs": [
    {
     "data": {
      "text/plain": [
       "Value(data=4.0)"
      ]
     },
     "execution_count": 77,
     "metadata": {},
     "output_type": "execute_result"
    }
   ],
   "source": [
    "d"
   ]
  },
  {
   "cell_type": "code",
   "execution_count": 78,
   "id": "80768c9d-ec10-45df-afc6-55ab146267c8",
   "metadata": {},
   "outputs": [],
   "source": [
    "#!conda install -c anaconda graphviz -y"
   ]
  },
  {
   "cell_type": "code",
   "execution_count": 79,
   "id": "a711040d-dc52-439f-bba3-ad2371a2c7df",
   "metadata": {},
   "outputs": [],
   "source": [
    "from graphviz import Digraph\n",
    "\n",
    "def trace(root):\n",
    "    # builds a set of all nodes and edges in a graph\n",
    "    nodes, edges = set(), set()\n",
    "    def build(v):\n",
    "        if v not in nodes:\n",
    "            nodes.add(v)\n",
    "            for child in v._prev:\n",
    "                edges.add((child, v))\n",
    "                build(child)\n",
    "    build(root)\n",
    "    return nodes, edges\n",
    "\n",
    "def draw_dot(root):\n",
    "    dot = Digraph(format='svg', graph_attr={'rankdir': 'LR'}) # LR = left to right\n",
    "\n",
    "    nodes, edges = trace(root)\n",
    "    for n in nodes:\n",
    "        uid = str(id(n))\n",
    "        # for any value in the graph, create a rectangular ('record') node for it\n",
    "        dot.node(name = uid, label = \"{ %s | data %.4f | grad %.4f }\" % (n.label, n.data, n.grad), shape='record')\n",
    "        if n._op:\n",
    "          # if this value is a result of some operation, create an op node for it\n",
    "          dot.node(name = uid + n._op, label = n._op)\n",
    "          # and connect this node to it\n",
    "          dot.edge(uid + n._op, uid)\n",
    "\n",
    "    for n1, n2 in edges:\n",
    "        # connect n1 to the op node of n2\n",
    "        dot.edge(str(id(n1)), str(id(n2)) + n2._op)\n",
    "\n",
    "    return dot\n"
   ]
  },
  {
   "cell_type": "code",
   "execution_count": 80,
   "id": "c0d92c34-62f9-4a84-b9d8-980543900754",
   "metadata": {},
   "outputs": [
    {
     "data": {
      "image/svg+xml": [
       "<?xml version=\"1.0\" encoding=\"UTF-8\" standalone=\"no\"?>\n",
       "<!DOCTYPE svg PUBLIC \"-//W3C//DTD SVG 1.1//EN\"\n",
       " \"http://www.w3.org/Graphics/SVG/1.1/DTD/svg11.dtd\">\n",
       "<!-- Generated by graphviz version 2.50.0 (0)\n",
       " -->\n",
       "<!-- Pages: 1 -->\n",
       "<svg width=\"955pt\" height=\"128pt\"\n",
       " viewBox=\"0.00 0.00 955.00 128.00\" xmlns=\"http://www.w3.org/2000/svg\" xmlns:xlink=\"http://www.w3.org/1999/xlink\">\n",
       "<g id=\"graph0\" class=\"graph\" transform=\"scale(1 1) rotate(0) translate(4 124)\">\n",
       "<polygon fill=\"white\" stroke=\"transparent\" points=\"-4,4 -4,-124 951,-124 951,4 -4,4\"/>\n",
       "<!-- 140615376936480 -->\n",
       "<g id=\"node1\" class=\"node\">\n",
       "<title>140615376936480</title>\n",
       "<polygon fill=\"none\" stroke=\"black\" points=\"0,-83.5 0,-119.5 232,-119.5 232,-83.5 0,-83.5\"/>\n",
       "<text text-anchor=\"middle\" x=\"10.5\" y=\"-97.8\" font-family=\"Times,serif\" font-size=\"14.00\"> </text>\n",
       "<polyline fill=\"none\" stroke=\"black\" points=\"21,-83.5 21,-119.5 \"/>\n",
       "<text text-anchor=\"middle\" x=\"74.5\" y=\"-97.8\" font-family=\"Times,serif\" font-size=\"14.00\">data &#45;3.0000</text>\n",
       "<polyline fill=\"none\" stroke=\"black\" points=\"128,-83.5 128,-119.5 \"/>\n",
       "<text text-anchor=\"middle\" x=\"180\" y=\"-97.8\" font-family=\"Times,serif\" font-size=\"14.00\">grad 0.0000</text>\n",
       "</g>\n",
       "<!-- 140615363697104* -->\n",
       "<g id=\"node7\" class=\"node\">\n",
       "<title>140615363697104*</title>\n",
       "<ellipse fill=\"none\" stroke=\"black\" cx=\"295\" cy=\"-73.5\" rx=\"27\" ry=\"18\"/>\n",
       "<text text-anchor=\"middle\" x=\"295\" y=\"-69.8\" font-family=\"Times,serif\" font-size=\"14.00\">*</text>\n",
       "</g>\n",
       "<!-- 140615376936480&#45;&gt;140615363697104* -->\n",
       "<g id=\"edge6\" class=\"edge\">\n",
       "<title>140615376936480&#45;&gt;140615363697104*</title>\n",
       "<path fill=\"none\" stroke=\"black\" d=\"M231.1,-83.45C240.88,-81.9 250.21,-80.43 258.54,-79.11\"/>\n",
       "<polygon fill=\"black\" stroke=\"black\" points=\"259.19,-82.55 268.52,-77.53 258.1,-75.64 259.19,-82.55\"/>\n",
       "</g>\n",
       "<!-- 140615363698304 -->\n",
       "<g id=\"node2\" class=\"node\">\n",
       "<title>140615363698304</title>\n",
       "<polygon fill=\"none\" stroke=\"black\" points=\"358,-0.5 358,-36.5 594,-36.5 594,-0.5 358,-0.5\"/>\n",
       "<text text-anchor=\"middle\" x=\"368.5\" y=\"-14.8\" font-family=\"Times,serif\" font-size=\"14.00\"> </text>\n",
       "<polyline fill=\"none\" stroke=\"black\" points=\"379,-0.5 379,-36.5 \"/>\n",
       "<text text-anchor=\"middle\" x=\"434.5\" y=\"-14.8\" font-family=\"Times,serif\" font-size=\"14.00\">data 10.0000</text>\n",
       "<polyline fill=\"none\" stroke=\"black\" points=\"490,-0.5 490,-36.5 \"/>\n",
       "<text text-anchor=\"middle\" x=\"542\" y=\"-14.8\" font-family=\"Times,serif\" font-size=\"14.00\">grad 0.0000</text>\n",
       "</g>\n",
       "<!-- 140615363696528+ -->\n",
       "<g id=\"node5\" class=\"node\">\n",
       "<title>140615363696528+</title>\n",
       "<ellipse fill=\"none\" stroke=\"black\" cx=\"657\" cy=\"-45.5\" rx=\"27\" ry=\"18\"/>\n",
       "<text text-anchor=\"middle\" x=\"657\" y=\"-41.8\" font-family=\"Times,serif\" font-size=\"14.00\">+</text>\n",
       "</g>\n",
       "<!-- 140615363698304&#45;&gt;140615363696528+ -->\n",
       "<g id=\"edge5\" class=\"edge\">\n",
       "<title>140615363698304&#45;&gt;140615363696528+</title>\n",
       "<path fill=\"none\" stroke=\"black\" d=\"M594.15,-36.17C603.53,-37.58 612.46,-38.93 620.46,-40.14\"/>\n",
       "<polygon fill=\"black\" stroke=\"black\" points=\"620.01,-43.61 630.42,-41.64 621.06,-36.69 620.01,-43.61\"/>\n",
       "</g>\n",
       "<!-- 140615364064400 -->\n",
       "<g id=\"node3\" class=\"node\">\n",
       "<title>140615364064400</title>\n",
       "<polygon fill=\"none\" stroke=\"black\" points=\"2.5,-28.5 2.5,-64.5 229.5,-64.5 229.5,-28.5 2.5,-28.5\"/>\n",
       "<text text-anchor=\"middle\" x=\"13\" y=\"-42.8\" font-family=\"Times,serif\" font-size=\"14.00\"> </text>\n",
       "<polyline fill=\"none\" stroke=\"black\" points=\"23.5,-28.5 23.5,-64.5 \"/>\n",
       "<text text-anchor=\"middle\" x=\"74.5\" y=\"-42.8\" font-family=\"Times,serif\" font-size=\"14.00\">data 2.0000</text>\n",
       "<polyline fill=\"none\" stroke=\"black\" points=\"125.5,-28.5 125.5,-64.5 \"/>\n",
       "<text text-anchor=\"middle\" x=\"177.5\" y=\"-42.8\" font-family=\"Times,serif\" font-size=\"14.00\">grad 0.0000</text>\n",
       "</g>\n",
       "<!-- 140615364064400&#45;&gt;140615363697104* -->\n",
       "<g id=\"edge4\" class=\"edge\">\n",
       "<title>140615364064400&#45;&gt;140615363697104*</title>\n",
       "<path fill=\"none\" stroke=\"black\" d=\"M229.6,-63.68C239.87,-65.24 249.68,-66.74 258.4,-68.07\"/>\n",
       "<polygon fill=\"black\" stroke=\"black\" points=\"258.05,-71.56 268.47,-69.61 259.11,-64.64 258.05,-71.56\"/>\n",
       "</g>\n",
       "<!-- 140615363696528 -->\n",
       "<g id=\"node4\" class=\"node\">\n",
       "<title>140615363696528</title>\n",
       "<polygon fill=\"none\" stroke=\"black\" points=\"720,-27.5 720,-63.5 947,-63.5 947,-27.5 720,-27.5\"/>\n",
       "<text text-anchor=\"middle\" x=\"730.5\" y=\"-41.8\" font-family=\"Times,serif\" font-size=\"14.00\"> </text>\n",
       "<polyline fill=\"none\" stroke=\"black\" points=\"741,-27.5 741,-63.5 \"/>\n",
       "<text text-anchor=\"middle\" x=\"792\" y=\"-41.8\" font-family=\"Times,serif\" font-size=\"14.00\">data 4.0000</text>\n",
       "<polyline fill=\"none\" stroke=\"black\" points=\"843,-27.5 843,-63.5 \"/>\n",
       "<text text-anchor=\"middle\" x=\"895\" y=\"-41.8\" font-family=\"Times,serif\" font-size=\"14.00\">grad 0.0000</text>\n",
       "</g>\n",
       "<!-- 140615363696528+&#45;&gt;140615363696528 -->\n",
       "<g id=\"edge1\" class=\"edge\">\n",
       "<title>140615363696528+&#45;&gt;140615363696528</title>\n",
       "<path fill=\"none\" stroke=\"black\" d=\"M684.12,-45.5C691.67,-45.5 700.45,-45.5 709.9,-45.5\"/>\n",
       "<polygon fill=\"black\" stroke=\"black\" points=\"709.95,-49 719.95,-45.5 709.95,-42 709.95,-49\"/>\n",
       "</g>\n",
       "<!-- 140615363697104 -->\n",
       "<g id=\"node6\" class=\"node\">\n",
       "<title>140615363697104</title>\n",
       "<polygon fill=\"none\" stroke=\"black\" points=\"360,-55.5 360,-91.5 592,-91.5 592,-55.5 360,-55.5\"/>\n",
       "<text text-anchor=\"middle\" x=\"370.5\" y=\"-69.8\" font-family=\"Times,serif\" font-size=\"14.00\"> </text>\n",
       "<polyline fill=\"none\" stroke=\"black\" points=\"381,-55.5 381,-91.5 \"/>\n",
       "<text text-anchor=\"middle\" x=\"434.5\" y=\"-69.8\" font-family=\"Times,serif\" font-size=\"14.00\">data &#45;6.0000</text>\n",
       "<polyline fill=\"none\" stroke=\"black\" points=\"488,-55.5 488,-91.5 \"/>\n",
       "<text text-anchor=\"middle\" x=\"540\" y=\"-69.8\" font-family=\"Times,serif\" font-size=\"14.00\">grad 0.0000</text>\n",
       "</g>\n",
       "<!-- 140615363697104&#45;&gt;140615363696528+ -->\n",
       "<g id=\"edge3\" class=\"edge\">\n",
       "<title>140615363697104&#45;&gt;140615363696528+</title>\n",
       "<path fill=\"none\" stroke=\"black\" d=\"M592.13,-55.49C602.27,-53.91 611.92,-52.4 620.51,-51.05\"/>\n",
       "<polygon fill=\"black\" stroke=\"black\" points=\"621.09,-54.5 630.43,-49.5 620.01,-47.59 621.09,-54.5\"/>\n",
       "</g>\n",
       "<!-- 140615363697104*&#45;&gt;140615363697104 -->\n",
       "<g id=\"edge2\" class=\"edge\">\n",
       "<title>140615363697104*&#45;&gt;140615363697104</title>\n",
       "<path fill=\"none\" stroke=\"black\" d=\"M322.03,-73.5C330.11,-73.5 339.62,-73.5 349.87,-73.5\"/>\n",
       "<polygon fill=\"black\" stroke=\"black\" points=\"349.9,-77 359.9,-73.5 349.9,-70 349.9,-77\"/>\n",
       "</g>\n",
       "</g>\n",
       "</svg>\n"
      ],
      "text/plain": [
       "<graphviz.graphs.Digraph at 0x7fe390d33ee0>"
      ]
     },
     "execution_count": 80,
     "metadata": {},
     "output_type": "execute_result"
    }
   ],
   "source": [
    "draw_dot(d)"
   ]
  },
  {
   "cell_type": "code",
   "execution_count": 82,
   "id": "9fa63b0d-e1ce-4f6a-9e84-72a6298080a4",
   "metadata": {},
   "outputs": [],
   "source": [
    "# Add labels"
   ]
  },
  {
   "cell_type": "code",
   "execution_count": 81,
   "id": "f8071e41-b69e-40d8-bcd9-fe14b60f13a6",
   "metadata": {},
   "outputs": [],
   "source": [
    "a = Value(2.0, label='a')\n",
    "b = Value(-3.0, label='b')\n",
    "c = Value(10.0, label='c')\n",
    "e = a*b; e.label = 'e'\n",
    "d = e + c; d.label = 'd'\n",
    "f = Value(-2.0, label='f')\n",
    "L = d * f; L.label = 'L'"
   ]
  },
  {
   "cell_type": "code",
   "execution_count": 83,
   "id": "d60d6310-27b3-425e-87d7-6ce6795290aa",
   "metadata": {},
   "outputs": [
    {
     "data": {
      "image/svg+xml": [
       "<?xml version=\"1.0\" encoding=\"UTF-8\" standalone=\"no\"?>\n",
       "<!DOCTYPE svg PUBLIC \"-//W3C//DTD SVG 1.1//EN\"\n",
       " \"http://www.w3.org/Graphics/SVG/1.1/DTD/svg11.dtd\">\n",
       "<!-- Generated by graphviz version 2.50.0 (0)\n",
       " -->\n",
       "<!-- Pages: 1 -->\n",
       "<svg width=\"1332pt\" height=\"128pt\"\n",
       " viewBox=\"0.00 0.00 1332.00 128.00\" xmlns=\"http://www.w3.org/2000/svg\" xmlns:xlink=\"http://www.w3.org/1999/xlink\">\n",
       "<g id=\"graph0\" class=\"graph\" transform=\"scale(1 1) rotate(0) translate(4 124)\">\n",
       "<polygon fill=\"white\" stroke=\"transparent\" points=\"-4,4 -4,-124 1328,-124 1328,4 -4,4\"/>\n",
       "<!-- 140615363339408 -->\n",
       "<g id=\"node1\" class=\"node\">\n",
       "<title>140615363339408</title>\n",
       "<polygon fill=\"none\" stroke=\"black\" points=\"728,-82.5 728,-118.5 961,-118.5 961,-82.5 728,-82.5\"/>\n",
       "<text text-anchor=\"middle\" x=\"739\" y=\"-96.8\" font-family=\"Times,serif\" font-size=\"14.00\">f</text>\n",
       "<polyline fill=\"none\" stroke=\"black\" points=\"750,-82.5 750,-118.5 \"/>\n",
       "<text text-anchor=\"middle\" x=\"803.5\" y=\"-96.8\" font-family=\"Times,serif\" font-size=\"14.00\">data &#45;2.0000</text>\n",
       "<polyline fill=\"none\" stroke=\"black\" points=\"857,-82.5 857,-118.5 \"/>\n",
       "<text text-anchor=\"middle\" x=\"909\" y=\"-96.8\" font-family=\"Times,serif\" font-size=\"14.00\">grad 0.0000</text>\n",
       "</g>\n",
       "<!-- 140615363339504* -->\n",
       "<g id=\"node6\" class=\"node\">\n",
       "<title>140615363339504*</title>\n",
       "<ellipse fill=\"none\" stroke=\"black\" cx=\"1024\" cy=\"-72.5\" rx=\"27\" ry=\"18\"/>\n",
       "<text text-anchor=\"middle\" x=\"1024\" y=\"-68.8\" font-family=\"Times,serif\" font-size=\"14.00\">*</text>\n",
       "</g>\n",
       "<!-- 140615363339408&#45;&gt;140615363339504* -->\n",
       "<g id=\"edge4\" class=\"edge\">\n",
       "<title>140615363339408&#45;&gt;140615363339504*</title>\n",
       "<path fill=\"none\" stroke=\"black\" d=\"M959.67,-82.49C969.61,-80.92 979.08,-79.43 987.53,-78.1\"/>\n",
       "<polygon fill=\"black\" stroke=\"black\" points=\"988.31,-81.52 997.64,-76.5 987.22,-74.6 988.31,-81.52\"/>\n",
       "</g>\n",
       "<!-- 140615363338928 -->\n",
       "<g id=\"node2\" class=\"node\">\n",
       "<title>140615363338928</title>\n",
       "<polygon fill=\"none\" stroke=\"black\" points=\"728.5,-27.5 728.5,-63.5 960.5,-63.5 960.5,-27.5 728.5,-27.5\"/>\n",
       "<text text-anchor=\"middle\" x=\"741.5\" y=\"-41.8\" font-family=\"Times,serif\" font-size=\"14.00\">d</text>\n",
       "<polyline fill=\"none\" stroke=\"black\" points=\"754.5,-27.5 754.5,-63.5 \"/>\n",
       "<text text-anchor=\"middle\" x=\"805.5\" y=\"-41.8\" font-family=\"Times,serif\" font-size=\"14.00\">data 4.0000</text>\n",
       "<polyline fill=\"none\" stroke=\"black\" points=\"856.5,-27.5 856.5,-63.5 \"/>\n",
       "<text text-anchor=\"middle\" x=\"908.5\" y=\"-41.8\" font-family=\"Times,serif\" font-size=\"14.00\">grad 0.0000</text>\n",
       "</g>\n",
       "<!-- 140615363338928&#45;&gt;140615363339504* -->\n",
       "<g id=\"edge6\" class=\"edge\">\n",
       "<title>140615363338928&#45;&gt;140615363339504*</title>\n",
       "<path fill=\"none\" stroke=\"black\" d=\"M960.92,-63.06C970.4,-64.5 979.44,-65.87 987.54,-67.11\"/>\n",
       "<polygon fill=\"black\" stroke=\"black\" points=\"987.19,-70.59 997.6,-68.64 988.24,-63.67 987.19,-70.59\"/>\n",
       "</g>\n",
       "<!-- 140615363338928+ -->\n",
       "<g id=\"node3\" class=\"node\">\n",
       "<title>140615363338928+</title>\n",
       "<ellipse fill=\"none\" stroke=\"black\" cx=\"665\" cy=\"-45.5\" rx=\"27\" ry=\"18\"/>\n",
       "<text text-anchor=\"middle\" x=\"665\" y=\"-41.8\" font-family=\"Times,serif\" font-size=\"14.00\">+</text>\n",
       "</g>\n",
       "<!-- 140615363338928+&#45;&gt;140615363338928 -->\n",
       "<g id=\"edge1\" class=\"edge\">\n",
       "<title>140615363338928+&#45;&gt;140615363338928</title>\n",
       "<path fill=\"none\" stroke=\"black\" d=\"M692.19,-45.5C699.78,-45.5 708.61,-45.5 718.11,-45.5\"/>\n",
       "<polygon fill=\"black\" stroke=\"black\" points=\"718.24,-49 728.24,-45.5 718.24,-42 718.24,-49\"/>\n",
       "</g>\n",
       "<!-- 140615376936336 -->\n",
       "<g id=\"node4\" class=\"node\">\n",
       "<title>140615376936336</title>\n",
       "<polygon fill=\"none\" stroke=\"black\" points=\"0,-83.5 0,-119.5 237,-119.5 237,-83.5 0,-83.5\"/>\n",
       "<text text-anchor=\"middle\" x=\"13\" y=\"-97.8\" font-family=\"Times,serif\" font-size=\"14.00\">b</text>\n",
       "<polyline fill=\"none\" stroke=\"black\" points=\"26,-83.5 26,-119.5 \"/>\n",
       "<text text-anchor=\"middle\" x=\"79.5\" y=\"-97.8\" font-family=\"Times,serif\" font-size=\"14.00\">data &#45;3.0000</text>\n",
       "<polyline fill=\"none\" stroke=\"black\" points=\"133,-83.5 133,-119.5 \"/>\n",
       "<text text-anchor=\"middle\" x=\"185\" y=\"-97.8\" font-family=\"Times,serif\" font-size=\"14.00\">grad 0.0000</text>\n",
       "</g>\n",
       "<!-- 140615363338592* -->\n",
       "<g id=\"node8\" class=\"node\">\n",
       "<title>140615363338592*</title>\n",
       "<ellipse fill=\"none\" stroke=\"black\" cx=\"300\" cy=\"-73.5\" rx=\"27\" ry=\"18\"/>\n",
       "<text text-anchor=\"middle\" x=\"300\" y=\"-69.8\" font-family=\"Times,serif\" font-size=\"14.00\">*</text>\n",
       "</g>\n",
       "<!-- 140615376936336&#45;&gt;140615363338592* -->\n",
       "<g id=\"edge7\" class=\"edge\">\n",
       "<title>140615376936336&#45;&gt;140615363338592*</title>\n",
       "<path fill=\"none\" stroke=\"black\" d=\"M234.96,-83.49C245.12,-81.91 254.8,-80.4 263.41,-79.05\"/>\n",
       "<polygon fill=\"black\" stroke=\"black\" points=\"264.02,-82.5 273.36,-77.5 262.94,-75.58 264.02,-82.5\"/>\n",
       "</g>\n",
       "<!-- 140615363339504 -->\n",
       "<g id=\"node5\" class=\"node\">\n",
       "<title>140615363339504</title>\n",
       "<polygon fill=\"none\" stroke=\"black\" points=\"1087,-54.5 1087,-90.5 1324,-90.5 1324,-54.5 1087,-54.5\"/>\n",
       "<text text-anchor=\"middle\" x=\"1100\" y=\"-68.8\" font-family=\"Times,serif\" font-size=\"14.00\">L</text>\n",
       "<polyline fill=\"none\" stroke=\"black\" points=\"1113,-54.5 1113,-90.5 \"/>\n",
       "<text text-anchor=\"middle\" x=\"1166.5\" y=\"-68.8\" font-family=\"Times,serif\" font-size=\"14.00\">data &#45;8.0000</text>\n",
       "<polyline fill=\"none\" stroke=\"black\" points=\"1220,-54.5 1220,-90.5 \"/>\n",
       "<text text-anchor=\"middle\" x=\"1272\" y=\"-68.8\" font-family=\"Times,serif\" font-size=\"14.00\">grad 0.0000</text>\n",
       "</g>\n",
       "<!-- 140615363339504*&#45;&gt;140615363339504 -->\n",
       "<g id=\"edge2\" class=\"edge\">\n",
       "<title>140615363339504*&#45;&gt;140615363339504</title>\n",
       "<path fill=\"none\" stroke=\"black\" d=\"M1051.1,-72.5C1058.61,-72.5 1067.33,-72.5 1076.75,-72.5\"/>\n",
       "<polygon fill=\"black\" stroke=\"black\" points=\"1076.78,-76 1086.78,-72.5 1076.78,-69 1076.78,-76\"/>\n",
       "</g>\n",
       "<!-- 140615363338592 -->\n",
       "<g id=\"node7\" class=\"node\">\n",
       "<title>140615363338592</title>\n",
       "<polygon fill=\"none\" stroke=\"black\" points=\"364.5,-55.5 364.5,-91.5 600.5,-91.5 600.5,-55.5 364.5,-55.5\"/>\n",
       "<text text-anchor=\"middle\" x=\"377\" y=\"-69.8\" font-family=\"Times,serif\" font-size=\"14.00\">e</text>\n",
       "<polyline fill=\"none\" stroke=\"black\" points=\"389.5,-55.5 389.5,-91.5 \"/>\n",
       "<text text-anchor=\"middle\" x=\"443\" y=\"-69.8\" font-family=\"Times,serif\" font-size=\"14.00\">data &#45;6.0000</text>\n",
       "<polyline fill=\"none\" stroke=\"black\" points=\"496.5,-55.5 496.5,-91.5 \"/>\n",
       "<text text-anchor=\"middle\" x=\"548.5\" y=\"-69.8\" font-family=\"Times,serif\" font-size=\"14.00\">grad 0.0000</text>\n",
       "</g>\n",
       "<!-- 140615363338592&#45;&gt;140615363338928+ -->\n",
       "<g id=\"edge9\" class=\"edge\">\n",
       "<title>140615363338592&#45;&gt;140615363338928+</title>\n",
       "<path fill=\"none\" stroke=\"black\" d=\"M599.6,-55.49C609.91,-53.89 619.74,-52.37 628.46,-51.01\"/>\n",
       "<polygon fill=\"black\" stroke=\"black\" points=\"629.18,-54.44 638.52,-49.45 628.1,-47.53 629.18,-54.44\"/>\n",
       "</g>\n",
       "<!-- 140615363338592*&#45;&gt;140615363338592 -->\n",
       "<g id=\"edge3\" class=\"edge\">\n",
       "<title>140615363338592*&#45;&gt;140615363338592</title>\n",
       "<path fill=\"none\" stroke=\"black\" d=\"M327.25,-73.5C335.09,-73.5 344.27,-73.5 354.17,-73.5\"/>\n",
       "<polygon fill=\"black\" stroke=\"black\" points=\"354.28,-77 364.28,-73.5 354.28,-70 354.28,-77\"/>\n",
       "</g>\n",
       "<!-- 140615363338640 -->\n",
       "<g id=\"node9\" class=\"node\">\n",
       "<title>140615363338640</title>\n",
       "<polygon fill=\"none\" stroke=\"black\" points=\"363,-0.5 363,-36.5 602,-36.5 602,-0.5 363,-0.5\"/>\n",
       "<text text-anchor=\"middle\" x=\"375\" y=\"-14.8\" font-family=\"Times,serif\" font-size=\"14.00\">c</text>\n",
       "<polyline fill=\"none\" stroke=\"black\" points=\"387,-0.5 387,-36.5 \"/>\n",
       "<text text-anchor=\"middle\" x=\"442.5\" y=\"-14.8\" font-family=\"Times,serif\" font-size=\"14.00\">data 10.0000</text>\n",
       "<polyline fill=\"none\" stroke=\"black\" points=\"498,-0.5 498,-36.5 \"/>\n",
       "<text text-anchor=\"middle\" x=\"550\" y=\"-14.8\" font-family=\"Times,serif\" font-size=\"14.00\">grad 0.0000</text>\n",
       "</g>\n",
       "<!-- 140615363338640&#45;&gt;140615363338928+ -->\n",
       "<g id=\"edge5\" class=\"edge\">\n",
       "<title>140615363338640&#45;&gt;140615363338928+</title>\n",
       "<path fill=\"none\" stroke=\"black\" d=\"M602.13,-36.25C611.53,-37.65 620.47,-38.99 628.48,-40.19\"/>\n",
       "<polygon fill=\"black\" stroke=\"black\" points=\"628.03,-43.66 638.44,-41.68 629.07,-36.74 628.03,-43.66\"/>\n",
       "</g>\n",
       "<!-- 140615363339696 -->\n",
       "<g id=\"node10\" class=\"node\">\n",
       "<title>140615363339696</title>\n",
       "<polygon fill=\"none\" stroke=\"black\" points=\"3,-28.5 3,-64.5 234,-64.5 234,-28.5 3,-28.5\"/>\n",
       "<text text-anchor=\"middle\" x=\"15.5\" y=\"-42.8\" font-family=\"Times,serif\" font-size=\"14.00\">a</text>\n",
       "<polyline fill=\"none\" stroke=\"black\" points=\"28,-28.5 28,-64.5 \"/>\n",
       "<text text-anchor=\"middle\" x=\"79\" y=\"-42.8\" font-family=\"Times,serif\" font-size=\"14.00\">data 2.0000</text>\n",
       "<polyline fill=\"none\" stroke=\"black\" points=\"130,-28.5 130,-64.5 \"/>\n",
       "<text text-anchor=\"middle\" x=\"182\" y=\"-42.8\" font-family=\"Times,serif\" font-size=\"14.00\">grad 0.0000</text>\n",
       "</g>\n",
       "<!-- 140615363339696&#45;&gt;140615363338592* -->\n",
       "<g id=\"edge8\" class=\"edge\">\n",
       "<title>140615363339696&#45;&gt;140615363338592*</title>\n",
       "<path fill=\"none\" stroke=\"black\" d=\"M234.2,-63.75C244.55,-65.31 254.43,-66.8 263.21,-68.12\"/>\n",
       "<polygon fill=\"black\" stroke=\"black\" points=\"262.92,-71.61 273.33,-69.64 263.96,-64.69 262.92,-71.61\"/>\n",
       "</g>\n",
       "</g>\n",
       "</svg>\n"
      ],
      "text/plain": [
       "<graphviz.graphs.Digraph at 0x7fe390cd98e0>"
      ]
     },
     "execution_count": 83,
     "metadata": {},
     "output_type": "execute_result"
    }
   ],
   "source": [
    "draw_dot(L)"
   ]
  },
  {
   "cell_type": "code",
   "execution_count": 84,
   "id": "dc4371a8-ca07-47d0-a945-9521486cc0b5",
   "metadata": {},
   "outputs": [],
   "source": [
    "# This can be seen as seen as the forward pass\n"
   ]
  },
  {
   "cell_type": "code",
   "execution_count": 85,
   "id": "249b1b15-f51a-453d-8516-3916a6c55637",
   "metadata": {},
   "outputs": [],
   "source": [
    "# Now let's add the back propagation"
   ]
  },
  {
   "cell_type": "code",
   "execution_count": null,
   "id": "6696d2bc-2bd7-4713-a3f9-b80b27d544f5",
   "metadata": {},
   "outputs": [],
   "source": [
    "#To do that we will compute the derivative of L in respect to L , L in respect to c, L in respect to e and so forth"
   ]
  },
  {
   "cell_type": "code",
   "execution_count": 96,
   "id": "5060879c-6cbf-445a-8998-0859b648e81f",
   "metadata": {},
   "outputs": [],
   "source": [
    "class Value:\n",
    "  \n",
    "    def __init__(self, data, _children=(), _op='', label=''):\n",
    "        self.data = data\n",
    "        self.grad = 0.0\n",
    "        self._backward = lambda: None\n",
    "        self._prev = set(_children)\n",
    "        self._op = _op\n",
    "        self.label = label\n",
    "\n",
    "    def __repr__(self):\n",
    "        return f\"Value(data={self.data})\"\n",
    "\n",
    "    def __add__(self, other):\n",
    "        out = Value(self.data + other.data, (self, other), '+')\n",
    "\n",
    "        def _backward():\n",
    "            self.grad += 1.0 * out.grad\n",
    "            other.grad += 1.0 * out.grad\n",
    "        out._backward = _backward\n",
    "\n",
    "        return out\n",
    "    def __substract__(self, other):\n",
    "        out = Value(self.data - other.data, (self, other), '-')\n",
    "\n",
    "        def _backward():\n",
    "            self.grad += 1.0 * out.grad\n",
    "            other.grad += 1.0 * out.grad\n",
    "        out._backward = _backward\n",
    "\n",
    "        return out\n",
    "    def __mul__(self, other):\n",
    "        out = Value(self.data * other.data, (self, other), '*')\n",
    "\n",
    "        def _backward():\n",
    "            self.grad += 1.0 * out.grad\n",
    "            other.grad += 1.0 * out.grad\n",
    "        out._backward = _backward\n",
    "\n",
    "        return out"
   ]
  },
  {
   "cell_type": "code",
   "execution_count": 106,
   "id": "2725c5e0-0e15-45e4-bca2-5277c52c6599",
   "metadata": {},
   "outputs": [
    {
     "name": "stdout",
     "output_type": "stream",
     "text": [
      "-6.000000000021544\n"
     ]
    }
   ],
   "source": [
    "def stage_variables():\n",
    "    h=0.0001\n",
    "    \n",
    "    a = Value(2.0 + h, label='a') # The derivative in respect to a\n",
    "    b = Value(-3.0, label='b')\n",
    "    c = Value(10.0, label='c')\n",
    "    e = a*b; e.label = 'e'\n",
    "    d = e + c; d.label = 'd'\n",
    "    f = Value(-2.0, label='f')\n",
    "    L1 = d * f; L.label = 'L'\n",
    "    L1=L1.data\n",
    "    \n",
    "    a = Value(2.0, label='a')\n",
    "    b = Value(-3.0, label='b')\n",
    "    c = Value(10.0, label='c')\n",
    "    e = a*b; e.label = 'e'\n",
    "    d = e + c; d.label = 'd'\n",
    "    f = Value(-2.0, label='f')\n",
    "    L2 = d * f; L.label = 'L'\n",
    "    L2=L2.data\n",
    "    \n",
    "    print((L2 - L1)/h) #The derivative\n",
    "stage_variables()"
   ]
  },
  {
   "cell_type": "code",
   "execution_count": 107,
   "id": "5fa9b498-5b62-4b6a-a5e9-763e7d47a8e8",
   "metadata": {},
   "outputs": [
    {
     "data": {
      "image/svg+xml": [
       "<?xml version=\"1.0\" encoding=\"UTF-8\" standalone=\"no\"?>\n",
       "<!DOCTYPE svg PUBLIC \"-//W3C//DTD SVG 1.1//EN\"\n",
       " \"http://www.w3.org/Graphics/SVG/1.1/DTD/svg11.dtd\">\n",
       "<!-- Generated by graphviz version 2.50.0 (0)\n",
       " -->\n",
       "<!-- Pages: 1 -->\n",
       "<svg width=\"1332pt\" height=\"128pt\"\n",
       " viewBox=\"0.00 0.00 1332.00 128.00\" xmlns=\"http://www.w3.org/2000/svg\" xmlns:xlink=\"http://www.w3.org/1999/xlink\">\n",
       "<g id=\"graph0\" class=\"graph\" transform=\"scale(1 1) rotate(0) translate(4 124)\">\n",
       "<polygon fill=\"white\" stroke=\"transparent\" points=\"-4,4 -4,-124 1328,-124 1328,4 -4,4\"/>\n",
       "<!-- 140615363340320 -->\n",
       "<g id=\"node1\" class=\"node\">\n",
       "<title>140615363340320</title>\n",
       "<polygon fill=\"none\" stroke=\"black\" points=\"728,-82.5 728,-118.5 961,-118.5 961,-82.5 728,-82.5\"/>\n",
       "<text text-anchor=\"middle\" x=\"739\" y=\"-96.8\" font-family=\"Times,serif\" font-size=\"14.00\">f</text>\n",
       "<polyline fill=\"none\" stroke=\"black\" points=\"750,-82.5 750,-118.5 \"/>\n",
       "<text text-anchor=\"middle\" x=\"803.5\" y=\"-96.8\" font-family=\"Times,serif\" font-size=\"14.00\">data &#45;2.0000</text>\n",
       "<polyline fill=\"none\" stroke=\"black\" points=\"857,-82.5 857,-118.5 \"/>\n",
       "<text text-anchor=\"middle\" x=\"909\" y=\"-96.8\" font-family=\"Times,serif\" font-size=\"14.00\">grad 0.0000</text>\n",
       "</g>\n",
       "<!-- 140615363340272* -->\n",
       "<g id=\"node10\" class=\"node\">\n",
       "<title>140615363340272*</title>\n",
       "<ellipse fill=\"none\" stroke=\"black\" cx=\"1024\" cy=\"-72.5\" rx=\"27\" ry=\"18\"/>\n",
       "<text text-anchor=\"middle\" x=\"1024\" y=\"-68.8\" font-family=\"Times,serif\" font-size=\"14.00\">*</text>\n",
       "</g>\n",
       "<!-- 140615363340320&#45;&gt;140615363340272* -->\n",
       "<g id=\"edge6\" class=\"edge\">\n",
       "<title>140615363340320&#45;&gt;140615363340272*</title>\n",
       "<path fill=\"none\" stroke=\"black\" d=\"M959.67,-82.49C969.61,-80.92 979.08,-79.43 987.53,-78.1\"/>\n",
       "<polygon fill=\"black\" stroke=\"black\" points=\"988.31,-81.52 997.64,-76.5 987.22,-74.6 988.31,-81.52\"/>\n",
       "</g>\n",
       "<!-- 140615363340848 -->\n",
       "<g id=\"node2\" class=\"node\">\n",
       "<title>140615363340848</title>\n",
       "<polygon fill=\"none\" stroke=\"black\" points=\"0,-83.5 0,-119.5 237,-119.5 237,-83.5 0,-83.5\"/>\n",
       "<text text-anchor=\"middle\" x=\"13\" y=\"-97.8\" font-family=\"Times,serif\" font-size=\"14.00\">b</text>\n",
       "<polyline fill=\"none\" stroke=\"black\" points=\"26,-83.5 26,-119.5 \"/>\n",
       "<text text-anchor=\"middle\" x=\"79.5\" y=\"-97.8\" font-family=\"Times,serif\" font-size=\"14.00\">data &#45;3.0000</text>\n",
       "<polyline fill=\"none\" stroke=\"black\" points=\"133,-83.5 133,-119.5 \"/>\n",
       "<text text-anchor=\"middle\" x=\"185\" y=\"-97.8\" font-family=\"Times,serif\" font-size=\"14.00\">grad 0.0000</text>\n",
       "</g>\n",
       "<!-- 140615363341088* -->\n",
       "<g id=\"node7\" class=\"node\">\n",
       "<title>140615363341088*</title>\n",
       "<ellipse fill=\"none\" stroke=\"black\" cx=\"300\" cy=\"-73.5\" rx=\"27\" ry=\"18\"/>\n",
       "<text text-anchor=\"middle\" x=\"300\" y=\"-69.8\" font-family=\"Times,serif\" font-size=\"14.00\">*</text>\n",
       "</g>\n",
       "<!-- 140615363340848&#45;&gt;140615363341088* -->\n",
       "<g id=\"edge7\" class=\"edge\">\n",
       "<title>140615363340848&#45;&gt;140615363341088*</title>\n",
       "<path fill=\"none\" stroke=\"black\" d=\"M234.96,-83.49C245.12,-81.91 254.8,-80.4 263.41,-79.05\"/>\n",
       "<polygon fill=\"black\" stroke=\"black\" points=\"264.02,-82.5 273.36,-77.5 262.94,-75.58 264.02,-82.5\"/>\n",
       "</g>\n",
       "<!-- 140615363339840 -->\n",
       "<g id=\"node3\" class=\"node\">\n",
       "<title>140615363339840</title>\n",
       "<polygon fill=\"none\" stroke=\"black\" points=\"728.5,-27.5 728.5,-63.5 960.5,-63.5 960.5,-27.5 728.5,-27.5\"/>\n",
       "<text text-anchor=\"middle\" x=\"741.5\" y=\"-41.8\" font-family=\"Times,serif\" font-size=\"14.00\">d</text>\n",
       "<polyline fill=\"none\" stroke=\"black\" points=\"754.5,-27.5 754.5,-63.5 \"/>\n",
       "<text text-anchor=\"middle\" x=\"805.5\" y=\"-41.8\" font-family=\"Times,serif\" font-size=\"14.00\">data 4.0000</text>\n",
       "<polyline fill=\"none\" stroke=\"black\" points=\"856.5,-27.5 856.5,-63.5 \"/>\n",
       "<text text-anchor=\"middle\" x=\"908.5\" y=\"-41.8\" font-family=\"Times,serif\" font-size=\"14.00\">grad 0.0000</text>\n",
       "</g>\n",
       "<!-- 140615363339840&#45;&gt;140615363340272* -->\n",
       "<g id=\"edge4\" class=\"edge\">\n",
       "<title>140615363339840&#45;&gt;140615363340272*</title>\n",
       "<path fill=\"none\" stroke=\"black\" d=\"M960.92,-63.06C970.4,-64.5 979.44,-65.87 987.54,-67.11\"/>\n",
       "<polygon fill=\"black\" stroke=\"black\" points=\"987.19,-70.59 997.6,-68.64 988.24,-63.67 987.19,-70.59\"/>\n",
       "</g>\n",
       "<!-- 140615363339840+ -->\n",
       "<g id=\"node4\" class=\"node\">\n",
       "<title>140615363339840+</title>\n",
       "<ellipse fill=\"none\" stroke=\"black\" cx=\"665\" cy=\"-45.5\" rx=\"27\" ry=\"18\"/>\n",
       "<text text-anchor=\"middle\" x=\"665\" y=\"-41.8\" font-family=\"Times,serif\" font-size=\"14.00\">+</text>\n",
       "</g>\n",
       "<!-- 140615363339840+&#45;&gt;140615363339840 -->\n",
       "<g id=\"edge1\" class=\"edge\">\n",
       "<title>140615363339840+&#45;&gt;140615363339840</title>\n",
       "<path fill=\"none\" stroke=\"black\" d=\"M692.19,-45.5C699.78,-45.5 708.61,-45.5 718.11,-45.5\"/>\n",
       "<polygon fill=\"black\" stroke=\"black\" points=\"718.24,-49 728.24,-45.5 718.24,-42 718.24,-49\"/>\n",
       "</g>\n",
       "<!-- 140615363340464 -->\n",
       "<g id=\"node5\" class=\"node\">\n",
       "<title>140615363340464</title>\n",
       "<polygon fill=\"none\" stroke=\"black\" points=\"3,-28.5 3,-64.5 234,-64.5 234,-28.5 3,-28.5\"/>\n",
       "<text text-anchor=\"middle\" x=\"15.5\" y=\"-42.8\" font-family=\"Times,serif\" font-size=\"14.00\">a</text>\n",
       "<polyline fill=\"none\" stroke=\"black\" points=\"28,-28.5 28,-64.5 \"/>\n",
       "<text text-anchor=\"middle\" x=\"79\" y=\"-42.8\" font-family=\"Times,serif\" font-size=\"14.00\">data 2.0000</text>\n",
       "<polyline fill=\"none\" stroke=\"black\" points=\"130,-28.5 130,-64.5 \"/>\n",
       "<text text-anchor=\"middle\" x=\"182\" y=\"-42.8\" font-family=\"Times,serif\" font-size=\"14.00\">grad 0.0000</text>\n",
       "</g>\n",
       "<!-- 140615363340464&#45;&gt;140615363341088* -->\n",
       "<g id=\"edge5\" class=\"edge\">\n",
       "<title>140615363340464&#45;&gt;140615363341088*</title>\n",
       "<path fill=\"none\" stroke=\"black\" d=\"M234.2,-63.75C244.55,-65.31 254.43,-66.8 263.21,-68.12\"/>\n",
       "<polygon fill=\"black\" stroke=\"black\" points=\"262.92,-71.61 273.33,-69.64 263.96,-64.69 262.92,-71.61\"/>\n",
       "</g>\n",
       "<!-- 140615363341088 -->\n",
       "<g id=\"node6\" class=\"node\">\n",
       "<title>140615363341088</title>\n",
       "<polygon fill=\"none\" stroke=\"black\" points=\"364.5,-55.5 364.5,-91.5 600.5,-91.5 600.5,-55.5 364.5,-55.5\"/>\n",
       "<text text-anchor=\"middle\" x=\"377\" y=\"-69.8\" font-family=\"Times,serif\" font-size=\"14.00\">e</text>\n",
       "<polyline fill=\"none\" stroke=\"black\" points=\"389.5,-55.5 389.5,-91.5 \"/>\n",
       "<text text-anchor=\"middle\" x=\"443\" y=\"-69.8\" font-family=\"Times,serif\" font-size=\"14.00\">data &#45;6.0000</text>\n",
       "<polyline fill=\"none\" stroke=\"black\" points=\"496.5,-55.5 496.5,-91.5 \"/>\n",
       "<text text-anchor=\"middle\" x=\"548.5\" y=\"-69.8\" font-family=\"Times,serif\" font-size=\"14.00\">grad 0.0000</text>\n",
       "</g>\n",
       "<!-- 140615363341088&#45;&gt;140615363339840+ -->\n",
       "<g id=\"edge8\" class=\"edge\">\n",
       "<title>140615363341088&#45;&gt;140615363339840+</title>\n",
       "<path fill=\"none\" stroke=\"black\" d=\"M599.6,-55.49C609.91,-53.89 619.74,-52.37 628.46,-51.01\"/>\n",
       "<polygon fill=\"black\" stroke=\"black\" points=\"629.18,-54.44 638.52,-49.45 628.1,-47.53 629.18,-54.44\"/>\n",
       "</g>\n",
       "<!-- 140615363341088*&#45;&gt;140615363341088 -->\n",
       "<g id=\"edge2\" class=\"edge\">\n",
       "<title>140615363341088*&#45;&gt;140615363341088</title>\n",
       "<path fill=\"none\" stroke=\"black\" d=\"M327.25,-73.5C335.09,-73.5 344.27,-73.5 354.17,-73.5\"/>\n",
       "<polygon fill=\"black\" stroke=\"black\" points=\"354.28,-77 364.28,-73.5 354.28,-70 354.28,-77\"/>\n",
       "</g>\n",
       "<!-- 140615363341664 -->\n",
       "<g id=\"node8\" class=\"node\">\n",
       "<title>140615363341664</title>\n",
       "<polygon fill=\"none\" stroke=\"black\" points=\"363,-0.5 363,-36.5 602,-36.5 602,-0.5 363,-0.5\"/>\n",
       "<text text-anchor=\"middle\" x=\"375\" y=\"-14.8\" font-family=\"Times,serif\" font-size=\"14.00\">c</text>\n",
       "<polyline fill=\"none\" stroke=\"black\" points=\"387,-0.5 387,-36.5 \"/>\n",
       "<text text-anchor=\"middle\" x=\"442.5\" y=\"-14.8\" font-family=\"Times,serif\" font-size=\"14.00\">data 10.0000</text>\n",
       "<polyline fill=\"none\" stroke=\"black\" points=\"498,-0.5 498,-36.5 \"/>\n",
       "<text text-anchor=\"middle\" x=\"550\" y=\"-14.8\" font-family=\"Times,serif\" font-size=\"14.00\">grad 0.0000</text>\n",
       "</g>\n",
       "<!-- 140615363341664&#45;&gt;140615363339840+ -->\n",
       "<g id=\"edge9\" class=\"edge\">\n",
       "<title>140615363341664&#45;&gt;140615363339840+</title>\n",
       "<path fill=\"none\" stroke=\"black\" d=\"M602.13,-36.25C611.53,-37.65 620.47,-38.99 628.48,-40.19\"/>\n",
       "<polygon fill=\"black\" stroke=\"black\" points=\"628.03,-43.66 638.44,-41.68 629.07,-36.74 628.03,-43.66\"/>\n",
       "</g>\n",
       "<!-- 140615363340272 -->\n",
       "<g id=\"node9\" class=\"node\">\n",
       "<title>140615363340272</title>\n",
       "<polygon fill=\"none\" stroke=\"black\" points=\"1087,-54.5 1087,-90.5 1324,-90.5 1324,-54.5 1087,-54.5\"/>\n",
       "<text text-anchor=\"middle\" x=\"1100\" y=\"-68.8\" font-family=\"Times,serif\" font-size=\"14.00\">L</text>\n",
       "<polyline fill=\"none\" stroke=\"black\" points=\"1113,-54.5 1113,-90.5 \"/>\n",
       "<text text-anchor=\"middle\" x=\"1166.5\" y=\"-68.8\" font-family=\"Times,serif\" font-size=\"14.00\">data &#45;8.0000</text>\n",
       "<polyline fill=\"none\" stroke=\"black\" points=\"1220,-54.5 1220,-90.5 \"/>\n",
       "<text text-anchor=\"middle\" x=\"1272\" y=\"-68.8\" font-family=\"Times,serif\" font-size=\"14.00\">grad 1.0000</text>\n",
       "</g>\n",
       "<!-- 140615363340272*&#45;&gt;140615363340272 -->\n",
       "<g id=\"edge3\" class=\"edge\">\n",
       "<title>140615363340272*&#45;&gt;140615363340272</title>\n",
       "<path fill=\"none\" stroke=\"black\" d=\"M1051.1,-72.5C1058.61,-72.5 1067.33,-72.5 1076.75,-72.5\"/>\n",
       "<polygon fill=\"black\" stroke=\"black\" points=\"1076.78,-76 1086.78,-72.5 1076.78,-69 1076.78,-76\"/>\n",
       "</g>\n",
       "</g>\n",
       "</svg>\n"
      ],
      "text/plain": [
       "<graphviz.graphs.Digraph at 0x7fe390ca5670>"
      ]
     },
     "execution_count": 107,
     "metadata": {},
     "output_type": "execute_result"
    }
   ],
   "source": [
    "L.grad= 1.0 # the derivative in respect to itself is 1\n",
    "draw_dot(L)"
   ]
  },
  {
   "cell_type": "code",
   "execution_count": 104,
   "id": "da5aa94a-1c54-4412-85c3-66b87e8ccdf3",
   "metadata": {},
   "outputs": [
    {
     "name": "stdout",
     "output_type": "stream",
     "text": [
      "-3.9999999999995595\n"
     ]
    }
   ],
   "source": [
    "# dL/dd = ? (What is the derivative of L in respect to d\n",
    "# (f(x+h) -f(x))/h\n",
    "# ((d+h)*f -d*f)/h\n",
    "# (d*f +h*f -d*f) /h\n",
    "# (h*f)/h\n",
    "# f"
   ]
  },
  {
   "cell_type": "code",
   "execution_count": 109,
   "id": "25f430e5-3ac3-47f5-9e90-932ec5916a56",
   "metadata": {},
   "outputs": [],
   "source": [
    "d.grad = -2"
   ]
  },
  {
   "cell_type": "code",
   "execution_count": 110,
   "id": "394e0ffb-1de5-42b1-95fc-ca4f0d011df3",
   "metadata": {},
   "outputs": [],
   "source": [
    "f.grad = 4.0"
   ]
  },
  {
   "cell_type": "code",
   "execution_count": 111,
   "id": "9415276c-2ed2-4609-8f89-c2e8b695a06a",
   "metadata": {},
   "outputs": [
    {
     "data": {
      "image/svg+xml": [
       "<?xml version=\"1.0\" encoding=\"UTF-8\" standalone=\"no\"?>\n",
       "<!DOCTYPE svg PUBLIC \"-//W3C//DTD SVG 1.1//EN\"\n",
       " \"http://www.w3.org/Graphics/SVG/1.1/DTD/svg11.dtd\">\n",
       "<!-- Generated by graphviz version 2.50.0 (0)\n",
       " -->\n",
       "<!-- Pages: 1 -->\n",
       "<svg width=\"1335pt\" height=\"128pt\"\n",
       " viewBox=\"0.00 0.00 1335.00 128.00\" xmlns=\"http://www.w3.org/2000/svg\" xmlns:xlink=\"http://www.w3.org/1999/xlink\">\n",
       "<g id=\"graph0\" class=\"graph\" transform=\"scale(1 1) rotate(0) translate(4 124)\">\n",
       "<polygon fill=\"white\" stroke=\"transparent\" points=\"-4,4 -4,-124 1331,-124 1331,4 -4,4\"/>\n",
       "<!-- 140615363340320 -->\n",
       "<g id=\"node1\" class=\"node\">\n",
       "<title>140615363340320</title>\n",
       "<polygon fill=\"none\" stroke=\"black\" points=\"729.5,-82.5 729.5,-118.5 962.5,-118.5 962.5,-82.5 729.5,-82.5\"/>\n",
       "<text text-anchor=\"middle\" x=\"740.5\" y=\"-96.8\" font-family=\"Times,serif\" font-size=\"14.00\">f</text>\n",
       "<polyline fill=\"none\" stroke=\"black\" points=\"751.5,-82.5 751.5,-118.5 \"/>\n",
       "<text text-anchor=\"middle\" x=\"805\" y=\"-96.8\" font-family=\"Times,serif\" font-size=\"14.00\">data &#45;2.0000</text>\n",
       "<polyline fill=\"none\" stroke=\"black\" points=\"858.5,-82.5 858.5,-118.5 \"/>\n",
       "<text text-anchor=\"middle\" x=\"910.5\" y=\"-96.8\" font-family=\"Times,serif\" font-size=\"14.00\">grad 4.0000</text>\n",
       "</g>\n",
       "<!-- 140615363340272* -->\n",
       "<g id=\"node10\" class=\"node\">\n",
       "<title>140615363340272*</title>\n",
       "<ellipse fill=\"none\" stroke=\"black\" cx=\"1027\" cy=\"-72.5\" rx=\"27\" ry=\"18\"/>\n",
       "<text text-anchor=\"middle\" x=\"1027\" y=\"-68.8\" font-family=\"Times,serif\" font-size=\"14.00\">*</text>\n",
       "</g>\n",
       "<!-- 140615363340320&#45;&gt;140615363340272* -->\n",
       "<g id=\"edge6\" class=\"edge\">\n",
       "<title>140615363340320&#45;&gt;140615363340272*</title>\n",
       "<path fill=\"none\" stroke=\"black\" d=\"M962.13,-82.49C972.27,-80.91 981.92,-79.4 990.51,-78.05\"/>\n",
       "<polygon fill=\"black\" stroke=\"black\" points=\"991.09,-81.5 1000.43,-76.5 990.01,-74.59 991.09,-81.5\"/>\n",
       "</g>\n",
       "<!-- 140615363340848 -->\n",
       "<g id=\"node2\" class=\"node\">\n",
       "<title>140615363340848</title>\n",
       "<polygon fill=\"none\" stroke=\"black\" points=\"0,-83.5 0,-119.5 237,-119.5 237,-83.5 0,-83.5\"/>\n",
       "<text text-anchor=\"middle\" x=\"13\" y=\"-97.8\" font-family=\"Times,serif\" font-size=\"14.00\">b</text>\n",
       "<polyline fill=\"none\" stroke=\"black\" points=\"26,-83.5 26,-119.5 \"/>\n",
       "<text text-anchor=\"middle\" x=\"79.5\" y=\"-97.8\" font-family=\"Times,serif\" font-size=\"14.00\">data &#45;3.0000</text>\n",
       "<polyline fill=\"none\" stroke=\"black\" points=\"133,-83.5 133,-119.5 \"/>\n",
       "<text text-anchor=\"middle\" x=\"185\" y=\"-97.8\" font-family=\"Times,serif\" font-size=\"14.00\">grad 0.0000</text>\n",
       "</g>\n",
       "<!-- 140615363341088* -->\n",
       "<g id=\"node7\" class=\"node\">\n",
       "<title>140615363341088*</title>\n",
       "<ellipse fill=\"none\" stroke=\"black\" cx=\"300\" cy=\"-73.5\" rx=\"27\" ry=\"18\"/>\n",
       "<text text-anchor=\"middle\" x=\"300\" y=\"-69.8\" font-family=\"Times,serif\" font-size=\"14.00\">*</text>\n",
       "</g>\n",
       "<!-- 140615363340848&#45;&gt;140615363341088* -->\n",
       "<g id=\"edge7\" class=\"edge\">\n",
       "<title>140615363340848&#45;&gt;140615363341088*</title>\n",
       "<path fill=\"none\" stroke=\"black\" d=\"M234.96,-83.49C245.12,-81.91 254.8,-80.4 263.41,-79.05\"/>\n",
       "<polygon fill=\"black\" stroke=\"black\" points=\"264.02,-82.5 273.36,-77.5 262.94,-75.58 264.02,-82.5\"/>\n",
       "</g>\n",
       "<!-- 140615363339840 -->\n",
       "<g id=\"node3\" class=\"node\">\n",
       "<title>140615363339840</title>\n",
       "<polygon fill=\"none\" stroke=\"black\" points=\"728,-27.5 728,-63.5 964,-63.5 964,-27.5 728,-27.5\"/>\n",
       "<text text-anchor=\"middle\" x=\"741\" y=\"-41.8\" font-family=\"Times,serif\" font-size=\"14.00\">d</text>\n",
       "<polyline fill=\"none\" stroke=\"black\" points=\"754,-27.5 754,-63.5 \"/>\n",
       "<text text-anchor=\"middle\" x=\"805\" y=\"-41.8\" font-family=\"Times,serif\" font-size=\"14.00\">data 4.0000</text>\n",
       "<polyline fill=\"none\" stroke=\"black\" points=\"856,-27.5 856,-63.5 \"/>\n",
       "<text text-anchor=\"middle\" x=\"910\" y=\"-41.8\" font-family=\"Times,serif\" font-size=\"14.00\">grad &#45;2.0000</text>\n",
       "</g>\n",
       "<!-- 140615363339840&#45;&gt;140615363340272* -->\n",
       "<g id=\"edge4\" class=\"edge\">\n",
       "<title>140615363339840&#45;&gt;140615363340272*</title>\n",
       "<path fill=\"none\" stroke=\"black\" d=\"M964.15,-63.17C973.53,-64.58 982.46,-65.93 990.46,-67.14\"/>\n",
       "<polygon fill=\"black\" stroke=\"black\" points=\"990.01,-70.61 1000.42,-68.64 991.06,-63.69 990.01,-70.61\"/>\n",
       "</g>\n",
       "<!-- 140615363339840+ -->\n",
       "<g id=\"node4\" class=\"node\">\n",
       "<title>140615363339840+</title>\n",
       "<ellipse fill=\"none\" stroke=\"black\" cx=\"665\" cy=\"-45.5\" rx=\"27\" ry=\"18\"/>\n",
       "<text text-anchor=\"middle\" x=\"665\" y=\"-41.8\" font-family=\"Times,serif\" font-size=\"14.00\">+</text>\n",
       "</g>\n",
       "<!-- 140615363339840+&#45;&gt;140615363339840 -->\n",
       "<g id=\"edge1\" class=\"edge\">\n",
       "<title>140615363339840+&#45;&gt;140615363339840</title>\n",
       "<path fill=\"none\" stroke=\"black\" d=\"M692.03,-45.5C699.58,-45.5 708.38,-45.5 717.87,-45.5\"/>\n",
       "<polygon fill=\"black\" stroke=\"black\" points=\"717.99,-49 727.99,-45.5 717.99,-42 717.99,-49\"/>\n",
       "</g>\n",
       "<!-- 140615363340464 -->\n",
       "<g id=\"node5\" class=\"node\">\n",
       "<title>140615363340464</title>\n",
       "<polygon fill=\"none\" stroke=\"black\" points=\"3,-28.5 3,-64.5 234,-64.5 234,-28.5 3,-28.5\"/>\n",
       "<text text-anchor=\"middle\" x=\"15.5\" y=\"-42.8\" font-family=\"Times,serif\" font-size=\"14.00\">a</text>\n",
       "<polyline fill=\"none\" stroke=\"black\" points=\"28,-28.5 28,-64.5 \"/>\n",
       "<text text-anchor=\"middle\" x=\"79\" y=\"-42.8\" font-family=\"Times,serif\" font-size=\"14.00\">data 2.0000</text>\n",
       "<polyline fill=\"none\" stroke=\"black\" points=\"130,-28.5 130,-64.5 \"/>\n",
       "<text text-anchor=\"middle\" x=\"182\" y=\"-42.8\" font-family=\"Times,serif\" font-size=\"14.00\">grad 0.0000</text>\n",
       "</g>\n",
       "<!-- 140615363340464&#45;&gt;140615363341088* -->\n",
       "<g id=\"edge5\" class=\"edge\">\n",
       "<title>140615363340464&#45;&gt;140615363341088*</title>\n",
       "<path fill=\"none\" stroke=\"black\" d=\"M234.2,-63.75C244.55,-65.31 254.43,-66.8 263.21,-68.12\"/>\n",
       "<polygon fill=\"black\" stroke=\"black\" points=\"262.92,-71.61 273.33,-69.64 263.96,-64.69 262.92,-71.61\"/>\n",
       "</g>\n",
       "<!-- 140615363341088 -->\n",
       "<g id=\"node6\" class=\"node\">\n",
       "<title>140615363341088</title>\n",
       "<polygon fill=\"none\" stroke=\"black\" points=\"364.5,-55.5 364.5,-91.5 600.5,-91.5 600.5,-55.5 364.5,-55.5\"/>\n",
       "<text text-anchor=\"middle\" x=\"377\" y=\"-69.8\" font-family=\"Times,serif\" font-size=\"14.00\">e</text>\n",
       "<polyline fill=\"none\" stroke=\"black\" points=\"389.5,-55.5 389.5,-91.5 \"/>\n",
       "<text text-anchor=\"middle\" x=\"443\" y=\"-69.8\" font-family=\"Times,serif\" font-size=\"14.00\">data &#45;6.0000</text>\n",
       "<polyline fill=\"none\" stroke=\"black\" points=\"496.5,-55.5 496.5,-91.5 \"/>\n",
       "<text text-anchor=\"middle\" x=\"548.5\" y=\"-69.8\" font-family=\"Times,serif\" font-size=\"14.00\">grad 0.0000</text>\n",
       "</g>\n",
       "<!-- 140615363341088&#45;&gt;140615363339840+ -->\n",
       "<g id=\"edge8\" class=\"edge\">\n",
       "<title>140615363341088&#45;&gt;140615363339840+</title>\n",
       "<path fill=\"none\" stroke=\"black\" d=\"M599.6,-55.49C609.91,-53.89 619.74,-52.37 628.46,-51.01\"/>\n",
       "<polygon fill=\"black\" stroke=\"black\" points=\"629.18,-54.44 638.52,-49.45 628.1,-47.53 629.18,-54.44\"/>\n",
       "</g>\n",
       "<!-- 140615363341088*&#45;&gt;140615363341088 -->\n",
       "<g id=\"edge2\" class=\"edge\">\n",
       "<title>140615363341088*&#45;&gt;140615363341088</title>\n",
       "<path fill=\"none\" stroke=\"black\" d=\"M327.25,-73.5C335.09,-73.5 344.27,-73.5 354.17,-73.5\"/>\n",
       "<polygon fill=\"black\" stroke=\"black\" points=\"354.28,-77 364.28,-73.5 354.28,-70 354.28,-77\"/>\n",
       "</g>\n",
       "<!-- 140615363341664 -->\n",
       "<g id=\"node8\" class=\"node\">\n",
       "<title>140615363341664</title>\n",
       "<polygon fill=\"none\" stroke=\"black\" points=\"363,-0.5 363,-36.5 602,-36.5 602,-0.5 363,-0.5\"/>\n",
       "<text text-anchor=\"middle\" x=\"375\" y=\"-14.8\" font-family=\"Times,serif\" font-size=\"14.00\">c</text>\n",
       "<polyline fill=\"none\" stroke=\"black\" points=\"387,-0.5 387,-36.5 \"/>\n",
       "<text text-anchor=\"middle\" x=\"442.5\" y=\"-14.8\" font-family=\"Times,serif\" font-size=\"14.00\">data 10.0000</text>\n",
       "<polyline fill=\"none\" stroke=\"black\" points=\"498,-0.5 498,-36.5 \"/>\n",
       "<text text-anchor=\"middle\" x=\"550\" y=\"-14.8\" font-family=\"Times,serif\" font-size=\"14.00\">grad 0.0000</text>\n",
       "</g>\n",
       "<!-- 140615363341664&#45;&gt;140615363339840+ -->\n",
       "<g id=\"edge9\" class=\"edge\">\n",
       "<title>140615363341664&#45;&gt;140615363339840+</title>\n",
       "<path fill=\"none\" stroke=\"black\" d=\"M602.13,-36.25C611.53,-37.65 620.47,-38.99 628.48,-40.19\"/>\n",
       "<polygon fill=\"black\" stroke=\"black\" points=\"628.03,-43.66 638.44,-41.68 629.07,-36.74 628.03,-43.66\"/>\n",
       "</g>\n",
       "<!-- 140615363340272 -->\n",
       "<g id=\"node9\" class=\"node\">\n",
       "<title>140615363340272</title>\n",
       "<polygon fill=\"none\" stroke=\"black\" points=\"1090,-54.5 1090,-90.5 1327,-90.5 1327,-54.5 1090,-54.5\"/>\n",
       "<text text-anchor=\"middle\" x=\"1103\" y=\"-68.8\" font-family=\"Times,serif\" font-size=\"14.00\">L</text>\n",
       "<polyline fill=\"none\" stroke=\"black\" points=\"1116,-54.5 1116,-90.5 \"/>\n",
       "<text text-anchor=\"middle\" x=\"1169.5\" y=\"-68.8\" font-family=\"Times,serif\" font-size=\"14.00\">data &#45;8.0000</text>\n",
       "<polyline fill=\"none\" stroke=\"black\" points=\"1223,-54.5 1223,-90.5 \"/>\n",
       "<text text-anchor=\"middle\" x=\"1275\" y=\"-68.8\" font-family=\"Times,serif\" font-size=\"14.00\">grad 1.0000</text>\n",
       "</g>\n",
       "<!-- 140615363340272*&#45;&gt;140615363340272 -->\n",
       "<g id=\"edge3\" class=\"edge\">\n",
       "<title>140615363340272*&#45;&gt;140615363340272</title>\n",
       "<path fill=\"none\" stroke=\"black\" d=\"M1054.1,-72.5C1061.61,-72.5 1070.33,-72.5 1079.75,-72.5\"/>\n",
       "<polygon fill=\"black\" stroke=\"black\" points=\"1079.78,-76 1089.78,-72.5 1079.78,-69 1079.78,-76\"/>\n",
       "</g>\n",
       "</g>\n",
       "</svg>\n"
      ],
      "text/plain": [
       "<graphviz.graphs.Digraph at 0x7fe390cb7be0>"
      ]
     },
     "execution_count": 111,
     "metadata": {},
     "output_type": "execute_result"
    }
   ],
   "source": [
    "draw_dot(L)"
   ]
  },
  {
   "cell_type": "code",
   "execution_count": 115,
   "id": "5d35768a-49c4-416b-93d4-9c42eb753b12",
   "metadata": {},
   "outputs": [
    {
     "name": "stdout",
     "output_type": "stream",
     "text": [
      "-1.9999999999953388\n"
     ]
    }
   ],
   "source": [
    "# Compute derdef stage_variables():\n",
    "def stage_variables():\n",
    "    \n",
    "    h=0.0001\n",
    "    \n",
    "    a = Value(2.0, label='a') \n",
    "    b = Value(-3.0, label='b')\n",
    "    c = Value(10.0, label='c')\n",
    "    e = a*b; e.label = 'e'\n",
    "    d = e + c; d.label = 'd'\n",
    "    f = Value(-2.0, label='f')\n",
    "    L1 = d * f; L.label = 'L'\n",
    "    L1=L1.data\n",
    "    \n",
    "    a = Value(2.0, label='a')\n",
    "    b = Value(-3.0, label='b')\n",
    "    c = Value(10.0, label='c')\n",
    "    e = a*b; e.label = 'e'\n",
    "    d = e + c; d.label = 'd'\n",
    "    d.data +=h  # derivative in respect to d\n",
    "    f = Value(-2.0, label='f')\n",
    "    L2 = d * f; L.label = 'L'\n",
    "    L2=L2.data\n",
    "    \n",
    "    print((L2 - L1)/h) #The derivative\n",
    "stage_variables()"
   ]
  },
  {
   "cell_type": "code",
   "execution_count": null,
   "id": "4d5d8f6d-063d-4e47-bf48-c5c749485f96",
   "metadata": {},
   "outputs": [],
   "source": [
    "# Wow it's actually -2  .. incredible :|"
   ]
  },
  {
   "cell_type": "code",
   "execution_count": 116,
   "id": "ea47d201-db7e-4b22-ba3f-e00f8d715782",
   "metadata": {},
   "outputs": [],
   "source": [
    "# Ok next questions is at the core of backpropagation\n",
    "# how do we derive l in respect to c dl/dc ?"
   ]
  },
  {
   "cell_type": "code",
   "execution_count": 117,
   "id": "7fcaed96-2294-4085-8f8d-8322df8c7930",
   "metadata": {},
   "outputs": [],
   "source": [
    "#dd/dc\n",
    "\n",
    "#d = c + e \n",
    "\n",
    "#f(x+h) - f(x))/h(\n",
    "\n",
    "#((c+h+e) - (c+e))/h\n",
    "\n",
    "# h/h =1\n",
    "\n",
    "# dd/dc=dd/de=1"
   ]
  },
  {
   "cell_type": "code",
   "execution_count": 118,
   "id": "611a2dd1-2338-4c71-88f8-4414be9d7b30",
   "metadata": {},
   "outputs": [],
   "source": [
    "# So basically the plus node only knows the local influences of the local derivatives\n",
    "# Hence we use the chain rule in calculus : (https://en.wikipedia.org/wiki/Chain_rule)\n",
    "# Can be extremely confusing but basically: if a car travels twice as fast as a bicycle and the bicycle is four times as fast as walking then the care is 2x4=8 as fast as walking\n",
    "# Basically the chain rule says: multiply previous gradients\n",
    "# I know I know : calculus seems easy (This is just the surface)"
   ]
  },
  {
   "cell_type": "code",
   "execution_count": null,
   "id": "89670385-7475-45a2-abeb-2a3d1802297f",
   "metadata": {},
   "outputs": [],
   "source": [
    "#Hence, dL/dc = dL/dd* dd/dc (Chain Rule)\n",
    "## Known\n",
    "#dL/dd=-2\n",
    "#dd/dc=1\n",
    "\n",
    "#Finally : dL/dc = -2"
   ]
  },
  {
   "cell_type": "code",
   "execution_count": 119,
   "id": "62833bf3-fa63-4c49-97e4-d0042dab3686",
   "metadata": {},
   "outputs": [],
   "source": [
    "c.grad=-2"
   ]
  },
  {
   "cell_type": "code",
   "execution_count": 120,
   "id": "50002acc-e2ff-45ca-90b1-ae9a73c64a48",
   "metadata": {},
   "outputs": [],
   "source": [
    "# We can verify this with the mathematical formula"
   ]
  },
  {
   "cell_type": "code",
   "execution_count": 122,
   "id": "80bf77e5-0cfc-4cb9-88b3-3d684557a579",
   "metadata": {},
   "outputs": [
    {
     "name": "stdout",
     "output_type": "stream",
     "text": [
      "-1.9999999999953388\n"
     ]
    }
   ],
   "source": [
    "# Compute derdef stage_variables():\n",
    "def stage_variables():\n",
    "    \n",
    "    h=0.0001\n",
    "    \n",
    "    a = Value(2.0, label='a') \n",
    "    b = Value(-3.0, label='b')\n",
    "    c = Value(10.0, label='c')\n",
    "    e = a*b; e.label = 'e'\n",
    "    d = e + c; d.label = 'd'\n",
    "    f = Value(-2.0, label='f')\n",
    "    L1 = d * f; L.label = 'L'\n",
    "    L1=L1.data\n",
    "    \n",
    "    a = Value(2.0, label='a')\n",
    "    b = Value(-3.0, label='b')\n",
    "    c = Value(10.0, label='c')\n",
    "    c.data +=h # Derivative in respect to h\n",
    "    e = a*b; e.label = 'e'\n",
    "    d = e + c; d.label = 'd'\n",
    "    f = Value(-2.0, label='f')\n",
    "    L2 = d * f; L.label = 'L'\n",
    "    L2=L2.data\n",
    "    \n",
    "    print((L2 - L1)/h) #The derivative\n",
    "stage_variables()"
   ]
  },
  {
   "cell_type": "code",
   "execution_count": null,
   "id": "13b89c6f-4b5d-4fda-80b7-22e70689ce66",
   "metadata": {},
   "outputs": [],
   "source": [
    "# Vuala"
   ]
  },
  {
   "cell_type": "code",
   "execution_count": null,
   "id": "1f544cc0-6fc5-4a00-ae19-20c9788c5ebe",
   "metadata": {},
   "outputs": [],
   "source": [
    "# Rinse and repeat and you computed the whole gradients"
   ]
  },
  {
   "cell_type": "code",
   "execution_count": null,
   "id": "0a5ba185-4689-4f8b-a4d6-594a04f7f123",
   "metadata": {},
   "outputs": [],
   "source": [
    "# Gradients represent the rate of change"
   ]
  },
  {
   "cell_type": "code",
   "execution_count": null,
   "id": "79763bcb-6f31-4d42-8666-00a5d5962a97",
   "metadata": {},
   "outputs": [],
   "source": [
    "# Substracting the gradients from the W matrix gives as a nn with a lower loss"
   ]
  },
  {
   "cell_type": "code",
   "execution_count": null,
   "id": "5bd6a239-7301-427e-b7e9-1120b72c7b12",
   "metadata": {},
   "outputs": [],
   "source": [
    "# This is the magic sauce behind everything deep learning"
   ]
  },
  {
   "cell_type": "code",
   "execution_count": null,
   "id": "80a86cb8-e2e2-451b-8e7a-34c87b02d795",
   "metadata": {},
   "outputs": [],
   "source": [
    "# If you got this far you are awesome"
   ]
  },
  {
   "cell_type": "markdown",
   "id": "2572df0b-a9d7-45b8-ac7c-dfe8dde2a175",
   "metadata": {
    "jp-MarkdownHeadingCollapsed": true,
    "tags": []
   },
   "source": []
  },
  {
   "cell_type": "code",
   "execution_count": null,
   "id": "90945852-4f9d-4516-9fea-4004000920bb",
   "metadata": {},
   "outputs": [],
   "source": []
  }
 ],
 "metadata": {
  "kernelspec": {
   "display_name": "Python 3 (ipykernel)",
   "language": "python",
   "name": "python3"
  },
  "language_info": {
   "codemirror_mode": {
    "name": "ipython",
    "version": 3
   },
   "file_extension": ".py",
   "mimetype": "text/x-python",
   "name": "python",
   "nbconvert_exporter": "python",
   "pygments_lexer": "ipython3",
   "version": "3.8.16"
  }
 },
 "nbformat": 4,
 "nbformat_minor": 5
}
