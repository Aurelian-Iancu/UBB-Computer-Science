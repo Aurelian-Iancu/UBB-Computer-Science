{
 "cells": [
  {
   "cell_type": "markdown",
   "metadata": {},
   "source": [
    "## Lab. 12\n",
    "\n",
    "### Solve the following problem using Genetic Algorithms:\n",
    "\n",
    "\n",
    "Problem: Weighted N-Queen Problem\n",
    "\n",
    "\n",
    "You are given an N×N chessboard, and each cell of the board has an associated weight. Your task is to find a valid placement of N queens such that the total weight of the queens is maximized, and no two queens threaten each other.\n",
    "\n"
   ]
  },
  {
   "cell_type": "markdown",
   "metadata": {},
   "source": [
    "\n",
    "\n",
    "In the traditional N-Queen Problem, the goal is to place N queens on an N×N chessboard in such a way that no two queens threaten each other. In this variation, we introduce weights to the queens and aim to find a placement that maximizes the total weight of the queens while satisfying the constraint of non-threatening positions.\n",
    "\n",
    "\n",
    "Constraints:\n",
    "\n",
    "1. There should be exactly one queen in each row and each column.\n",
    "2. No two queens should be placed in the same diagonal, i.e., they should not threaten each other.\n",
    "3. The placement should maximize the total weight of the queens.\n",
    "\n",
    "\n",
    "Representation:\n",
    "\n",
    "Use a permutation-based representation. Each permutation represents the column position of the queen for each row. \n",
    "\n",
    "For example, if N=4, a valid permutation [2, 4, 1, 3] indicates that the queen in the first row is placed in column 2, the queen in the second row is placed in column 4, and so on.\n",
    "\n",
    "\n",
    "Genetic Algorithm Steps:\n",
    "\n",
    "1. *Initialization*: Generate an initial population of permutations randomly.\n",
    "\n",
    "2. *Fitness Evaluation*: Evaluate the fitness of each permutation by calculating the total weight of the queens while considering the non-threatening positions.\n",
    "\n",
    "3. *Selection*: Select a subset of permutations from the population based on their fitness, using selection techniques like tournament selection or roulette wheel selection.\n",
    "\n",
    "4. *Crossover*: Perform crossover (recombination) on the selected permutations to create new offspring permutations.\n",
    "\n",
    "5. *Mutation*: Introduce random changes (mutations) in the offspring permutations to maintain diversity in the population.\n",
    "\n",
    "6. *Fitness Evaluation for the new individuals*: Evaluate the fitness of the new population.\n",
    "\n",
    "7. *Form the new population*: Select the surviving individuals based on scores, with chances direct proportional with their performance.\n",
    "\n",
    "8. Repeat steps 3-7 for a certain number of generations or until a termination condition is met (e.g., a maximum number of iterations or a satisfactory solution is found).\n",
    "\n",
    "\n",
    "9. *Termination*: Return the best-performing individual (permutation) found as the solution to the problem.\n",
    "\n",
    "Note: The fitness function used in this problem should calculate the total weight of the queens based on the positions specified by the permutation. Additionally, the fitness function should penalize solutions that violate the non-threatening constraint by assigning a lower fitness score to such permutations."
   ]
  },
  {
   "cell_type": "code",
   "execution_count": null,
   "metadata": {},
   "outputs": [],
   "source": []
  }
 ],
 "metadata": {
  "kernel_info": {
   "name": "python"
  },
  "kernelspec": {
   "display_name": "Python 3 (ipykernel)",
   "language": "python",
   "name": "python3"
  },
  "language_info": {
   "codemirror_mode": {
    "name": "ipython",
    "version": 3
   },
   "file_extension": ".py",
   "mimetype": "text/x-python",
   "name": "python",
   "nbconvert_exporter": "python",
   "pygments_lexer": "ipython3",
   "version": "3.9.16"
  },
  "nteract": {
   "version": "nteract-front-end@1.0.0"
  }
 },
 "nbformat": 4,
 "nbformat_minor": 2
}
